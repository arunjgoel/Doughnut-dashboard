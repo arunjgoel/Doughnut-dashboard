{
 "cells": [
  {
   "cell_type": "code",
   "execution_count": 1,
   "id": "209374da-0028-42ab-a93b-0ae95fb53785",
   "metadata": {},
   "outputs": [
    {
     "data": {
      "application/vnd.jupyter.widget-view+json": {
       "model_id": "2198426af3424c14af36adc29ae493b0",
       "version_major": 2,
       "version_minor": 0
      },
      "text/plain": [
       "VBox(children=(HBox(children=(FloatSlider(value=50.0, description='Income Safe', step=1.0), FloatSlider(value=…"
      ]
     },
     "metadata": {},
     "output_type": "display_data"
    },
    {
     "data": {
      "application/vnd.jupyter.widget-view+json": {
       "model_id": "e796f84b4ef44893b8ddac17df48da36",
       "version_major": 2,
       "version_minor": 0
      },
      "text/plain": [
       "Output()"
      ]
     },
     "metadata": {},
     "output_type": "display_data"
    }
   ],
   "source": [
    "import numpy as np\n",
    "import matplotlib.pyplot as plt\n",
    "from ipywidgets import FloatSlider, VBox, HBox, interactive_output\n",
    "from IPython.display import display\n",
    "\n",
    "# Radii settings\n",
    "r_safe_social = 1.0\n",
    "r_safe_eco = 2.0\n",
    "r_max = 3.0\n",
    "\n",
    "# Indicator positions\n",
    "_social_angles = [0, np.pi/2, np.pi, 3*np.pi/2]\n",
    "_eco_angles = [np.pi/4, 3*np.pi/4, 5*np.pi/4, 7*np.pi/4]\n",
    "\n",
    "# Labels\n",
    "titles_social = [\"Income\", \"Worker Safety\", \"Gender Equality\", \"Education\"]\n",
    "titles_eco = [\"Climate Change\", \"Freshwater Usage\", \"Chemical Pollution\", \"Microplastic Pollution\"]\n",
    "\n",
    "def plot_combined_green_ring(\n",
    "    income_safe, income_current,\n",
    "    workersafe_safe, workersafe_current,\n",
    "    gender_safe, gender_current,\n",
    "    education_safe, education_current,\n",
    "    climate_safe, climate_current,\n",
    "    freshwater_safe, freshwater_current,\n",
    "    chemical_safe, chemical_current,\n",
    "    microplastic_safe, microplastic_current\n",
    "):\n",
    "    fig, ax = plt.subplots(figsize=(8, 8), subplot_kw={'polar': True})\n",
    "\n",
    "    # Green safe zone area\n",
    "    theta = np.linspace(0, 2*np.pi, 400)\n",
    "    ax.fill_between(theta, r_safe_social, r_safe_eco, color='green', alpha=0.25)\n",
    "\n",
    "    # Draw thin green boundary circles\n",
    "    ax.plot(theta, np.full_like(theta, r_safe_social), color='green', linewidth=1.5, linestyle='--')\n",
    "    ax.plot(theta, np.full_like(theta, r_safe_eco), color='green', linewidth=1.5, linestyle='--')\n",
    "\n",
    "    # Labels\n",
    "    ax.text(np.pi/2, 1.5, 'Safe Zone', ha='center', va='center', fontsize=14, fontweight='bold')\n",
    "    ax.text(np.pi, 0.55, 'Social Shortfall', ha='center', va='center', color='red', fontsize=9)\n",
    "    ax.text(np.pi, 2.55, 'Ecological Overshoot', ha='center', va='center', color='red', fontsize=12)\n",
    "\n",
    "    # Bar width\n",
    "    bw = 0.3\n",
    "\n",
    "    # Social indicators\n",
    "    safe_social = [income_safe, workersafe_safe, gender_safe, education_safe]\n",
    "    curr_social = [income_current, workersafe_current, gender_current, education_current]\n",
    "    for i, angle in enumerate(_social_angles):\n",
    "        s, c = safe_social[i], curr_social[i]\n",
    "        if c >= s:\n",
    "            ax.plot(angle, r_safe_social, 'o', color='green', markersize=8)\n",
    "        else:\n",
    "            r_c = (c/s) * r_safe_social if s else 0\n",
    "            ax.bar(angle, r_safe_social - r_c, width=bw, bottom=r_c,\n",
    "                   color='red', alpha=0.6)\n",
    "        ax.text(angle, r_safe_social - 0.15, f\"{titles_social[i]}\\n{c}/{s}\", ha='center', va='center', fontsize=7)\n",
    "\n",
    "    # Ecological indicators\n",
    "    safe_eco = [climate_safe, freshwater_safe, chemical_safe, microplastic_safe]\n",
    "    curr_eco = [climate_current, freshwater_current, chemical_current, microplastic_current]\n",
    "    for i, angle in enumerate(_eco_angles):\n",
    "        s, c = safe_eco[i], curr_eco[i]\n",
    "        if i == 0:  # Climate Change (safe if >1%)\n",
    "            if c >= s:\n",
    "                ax.plot(angle, r_safe_eco, 'o', color='green', markersize=8)\n",
    "            else:\n",
    "                r_c = (c/s) * r_safe_eco if s else 0\n",
    "                ax.bar(angle, r_safe_eco - r_c, width=bw, bottom=r_c,\n",
    "                       color='red', alpha=0.6)\n",
    "        elif i == 3:  # Microplastic Pollution (safe if <30%)\n",
    "            if c <= s:\n",
    "                ax.plot(angle, r_safe_eco, 'o', color='green', markersize=8)\n",
    "            else:\n",
    "                overshoot = (c - s) / (100 - s)\n",
    "                r_c = r_safe_eco + overshoot * (r_max - r_safe_eco)\n",
    "                ax.bar(angle, r_c - r_safe_eco, width=bw, bottom=r_safe_eco,\n",
    "                       color='red', alpha=0.5 + 0.5 * overshoot)\n",
    "        else:  # Freshwater & Chemical Pollution (safe if >50%)\n",
    "            if c >= s:\n",
    "                ax.plot(angle, r_safe_eco, 'o', color='green', markersize=8)\n",
    "            else:\n",
    "                overshoot = (s - c) / s\n",
    "                r_c = r_safe_eco + overshoot * (r_max - r_safe_eco)\n",
    "                ax.bar(angle, r_c - r_safe_eco, width=bw, bottom=r_safe_eco,\n",
    "                       color='red', alpha=0.5 + 0.5 * overshoot)\n",
    "        ax.text(angle, r_safe_eco + 0.2, f\"{titles_eco[i]}\\n{c}/{s}\", ha='center', va='center', fontsize=7)\n",
    "\n",
    "    ax.set_xticks([])\n",
    "    ax.set_yticks([])\n",
    "    ax.set_ylim(0, r_max)\n",
    "    plt.show()\n",
    "\n",
    "# Slider controls\n",
    "controls = {}\n",
    "rows = []\n",
    "params = [\n",
    "    ('income', 50), ('workersafe', 50), ('gender', 40), ('education', 50),\n",
    "    ('climate', 1), ('freshwater', 50), ('chemical', 50), ('microplastic', 30)\n",
    "]\n",
    "for name, default in params:\n",
    "    safe_slider = FloatSlider(value=default, min=0, max=100, step=1, description=f'{name.capitalize()} Safe')\n",
    "    curr_slider = FloatSlider(value=default, min=0, max=100, step=1, description=f'{name.capitalize()} Curr')\n",
    "    controls[f'{name}_safe'] = safe_slider\n",
    "    controls[f'{name}_current'] = curr_slider\n",
    "    rows.append(HBox([safe_slider, curr_slider]))\n",
    "\n",
    "# Show plot\n",
    "interactive_plot = interactive_output(plot_combined_green_ring, controls)\n",
    "display(VBox(rows), interactive_plot)\n"
   ]
  },
  {
   "cell_type": "code",
   "execution_count": null,
   "id": "992f002f-33fb-491f-b414-b5a8ff052072",
   "metadata": {},
   "outputs": [],
   "source": []
  }
 ],
 "metadata": {
  "kernelspec": {
   "display_name": "Python 3 (ipykernel)",
   "language": "python",
   "name": "python3"
  },
  "language_info": {
   "codemirror_mode": {
    "name": "ipython",
    "version": 3
   },
   "file_extension": ".py",
   "mimetype": "text/x-python",
   "name": "python",
   "nbconvert_exporter": "python",
   "pygments_lexer": "ipython3",
   "version": "3.13.2"
  }
 },
 "nbformat": 4,
 "nbformat_minor": 5
}
